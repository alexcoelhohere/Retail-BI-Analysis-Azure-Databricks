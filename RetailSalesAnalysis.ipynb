{
 "cells": [
  {
   "cell_type": "markdown",
   "metadata": {
    "application/vnd.databricks.v1+cell": {
     "cellMetadata": {},
     "inputWidgets": {},
     "nuid": "d758eb1e-bdbb-4354-9943-f1837e15b5a9",
     "showTitle": false,
     "tableResultSettingsMap": {},
     "title": ""
    }
   },
   "source": [
    "Import Data"
   ]
  },
  {
   "cell_type": "code",
   "execution_count": 0,
   "metadata": {
    "application/vnd.databricks.v1+cell": {
     "cellMetadata": {
      "byteLimit": 2048000,
      "rowLimit": 10000
     },
     "inputWidgets": {},
     "nuid": "02cf5947-372d-4159-aff7-695a68a366f7",
     "showTitle": false,
     "tableResultSettingsMap": {},
     "title": ""
    }
   },
   "outputs": [
    {
     "output_type": "stream",
     "name": "stdout",
     "output_type": "stream",
     "text": [
      "+------+--------------+----------+----------+--------------+-----------+---------------+---------+-------------+---------------+----------+-----------+------+---------------+---------------+------------+--------------------+--------+--------+--------+--------+\n|Row ID|      Order ID|Order Date| Ship Date|     Ship Mode|Customer ID|  Customer Name|  Segment|      Country|           City|     State|Postal Code|Region|     Product ID|       Category|Sub-Category|        Product Name|   Sales|Quantity|Discount|  Profit|\n+------+--------------+----------+----------+--------------+-----------+---------------+---------+-------------+---------------+----------+-----------+------+---------------+---------------+------------+--------------------+--------+--------+--------+--------+\n|     1|CA-2016-152156|2016-11-08|2016-11-11|  Second Class|   CG-12520|    Claire Gute| Consumer|United States|      Henderson|  Kentucky|      42420| South|FUR-BO-10001798|      Furniture|   Bookcases|Bush Somerset Col...|  261.96|       2|       0| 41.9136|\n|     2|CA-2016-152156|2016-11-08|2016-11-11|  Second Class|   CG-12520|    Claire Gute| Consumer|United States|      Henderson|  Kentucky|      42420| South|FUR-CH-10000454|      Furniture|      Chairs|Hon Deluxe Fabric...|  731.94|       3|       0| 219.582|\n|     3|CA-2016-138688|2016-06-12|2016-06-16|  Second Class|   DV-13045|Darrin Van Huff|Corporate|United States|    Los Angeles|California|      90036|  West|OFF-LA-10000240|Office Supplies|      Labels|Self-Adhesive Add...|   14.62|       2|       0|  6.8714|\n|     4|US-2015-108966|2015-10-11|2015-10-18|Standard Class|   SO-20335| Sean O'Donnell| Consumer|United States|Fort Lauderdale|   Florida|      33311| South|FUR-TA-10000577|      Furniture|      Tables|Bretford CR4500 S...|957.5775|       5|    0.45|-383.031|\n|     5|US-2015-108966|2015-10-11|2015-10-18|Standard Class|   SO-20335| Sean O'Donnell| Consumer|United States|Fort Lauderdale|   Florida|      33311| South|OFF-ST-10000760|Office Supplies|     Storage|Eldon Fold 'N Rol...|  22.368|       2|     0.2|  2.5164|\n+------+--------------+----------+----------+--------------+-----------+---------------+---------+-------------+---------------+----------+-----------+------+---------------+---------------+------------+--------------------+--------+--------+--------+--------+\nonly showing top 5 rows\n\n"
     ]
    }
   ],
   "source": [
    "df = spark.read.csv(\"/FileStore/tables/Superstore.csv\", header=True, inferSchema=True)\n",
    "df.show(5)"
   ]
  },
  {
   "cell_type": "markdown",
   "metadata": {
    "application/vnd.databricks.v1+cell": {
     "cellMetadata": {},
     "inputWidgets": {},
     "nuid": "0af66f31-80ae-409e-8e0b-b119b2d2f7a5",
     "showTitle": false,
     "tableResultSettingsMap": {},
     "title": ""
    }
   },
   "source": [
    "View Schemas and Columns"
   ]
  },
  {
   "cell_type": "code",
   "execution_count": 0,
   "metadata": {
    "application/vnd.databricks.v1+cell": {
     "cellMetadata": {
      "byteLimit": 2048000,
      "rowLimit": 10000
     },
     "inputWidgets": {},
     "nuid": "aae33030-3cc3-4462-8f5d-e41864a80176",
     "showTitle": false,
     "tableResultSettingsMap": {},
     "title": ""
    }
   },
   "outputs": [
    {
     "output_type": "stream",
     "name": "stdout",
     "output_type": "stream",
     "text": [
      "root\n |-- Row ID: integer (nullable = true)\n |-- Order ID: string (nullable = true)\n |-- Order Date: date (nullable = true)\n |-- Ship Date: date (nullable = true)\n |-- Ship Mode: string (nullable = true)\n |-- Customer ID: string (nullable = true)\n |-- Customer Name: string (nullable = true)\n |-- Segment: string (nullable = true)\n |-- Country: string (nullable = true)\n |-- City: string (nullable = true)\n |-- State: string (nullable = true)\n |-- Postal Code: integer (nullable = true)\n |-- Region: string (nullable = true)\n |-- Product ID: string (nullable = true)\n |-- Category: string (nullable = true)\n |-- Sub-Category: string (nullable = true)\n |-- Product Name: string (nullable = true)\n |-- Sales: string (nullable = true)\n |-- Quantity: string (nullable = true)\n |-- Discount: string (nullable = true)\n |-- Profit: double (nullable = true)\n\n"
     ]
    }
   ],
   "source": [
    "df.printSchema()"
   ]
  },
  {
   "cell_type": "markdown",
   "metadata": {
    "application/vnd.databricks.v1+cell": {
     "cellMetadata": {},
     "inputWidgets": {},
     "nuid": "a21d796c-92bf-4ba5-8a41-e0615c0cda2b",
     "showTitle": false,
     "tableResultSettingsMap": {},
     "title": ""
    }
   },
   "source": [
    "Check for Null Values"
   ]
  },
  {
   "cell_type": "code",
   "execution_count": 0,
   "metadata": {
    "application/vnd.databricks.v1+cell": {
     "cellMetadata": {
      "byteLimit": 2048000,
      "rowLimit": 10000
     },
     "inputWidgets": {},
     "nuid": "31f5caf2-b05b-462c-a3f5-a8e42d3abbf6",
     "showTitle": false,
     "tableResultSettingsMap": {},
     "title": ""
    }
   },
   "outputs": [
    {
     "output_type": "stream",
     "name": "stdout",
     "output_type": "stream",
     "text": [
      "+------+--------+----------+---------+---------+-----------+-------------+-------+-------+-----+-----+-----------+------+----------+--------+------------+------------+-----+--------+--------+------+\n|Row ID|Order ID|Order Date|Ship Date|Ship Mode|Customer ID|Customer Name|Segment|Country| City|State|Postal Code|Region|Product ID|Category|Sub-Category|Product Name|Sales|Quantity|Discount|Profit|\n+------+--------+----------+---------+---------+-----------+-------------+-------+-------+-----+-----+-----------+------+----------+--------+------------+------------+-----+--------+--------+------+\n| false|   false|     false|    false|    false|      false|        false|  false|  false|false|false|      false| false|     false|   false|       false|       false|false|   false|   false| false|\n| false|   false|     false|    false|    false|      false|        false|  false|  false|false|false|      false| false|     false|   false|       false|       false|false|   false|   false| false|\n| false|   false|     false|    false|    false|      false|        false|  false|  false|false|false|      false| false|     false|   false|       false|       false|false|   false|   false| false|\n| false|   false|     false|    false|    false|      false|        false|  false|  false|false|false|      false| false|     false|   false|       false|       false|false|   false|   false| false|\n| false|   false|     false|    false|    false|      false|        false|  false|  false|false|false|      false| false|     false|   false|       false|       false|false|   false|   false| false|\n+------+--------+----------+---------+---------+-----------+-------------+-------+-------+-----+-----+-----------+------+----------+--------+------------+------------+-----+--------+--------+------+\nonly showing top 5 rows\n\n"
     ]
    }
   ],
   "source": [
    "from pyspark.sql.functions import col\n",
    "\n",
    "df.select([col(c).isNull().alias(c) for c in df.columns]).show(5)"
   ]
  },
  {
   "cell_type": "markdown",
   "metadata": {
    "application/vnd.databricks.v1+cell": {
     "cellMetadata": {},
     "inputWidgets": {},
     "nuid": "e2eb539a-6c17-451d-98a5-60e1a9d2b5c7",
     "showTitle": false,
     "tableResultSettingsMap": {},
     "title": ""
    }
   },
   "source": [
    "Dropping Null Values"
   ]
  },
  {
   "cell_type": "code",
   "execution_count": 0,
   "metadata": {
    "application/vnd.databricks.v1+cell": {
     "cellMetadata": {
      "byteLimit": 2048000,
      "rowLimit": 10000
     },
     "inputWidgets": {},
     "nuid": "1fbfffd8-561a-4773-94d8-c8c708695a79",
     "showTitle": false,
     "tableResultSettingsMap": {},
     "title": ""
    }
   },
   "outputs": [],
   "source": [
    "df_clean = df.dropna()"
   ]
  },
  {
   "cell_type": "markdown",
   "metadata": {
    "application/vnd.databricks.v1+cell": {
     "cellMetadata": {},
     "inputWidgets": {},
     "nuid": "ebb0176e-07bd-40de-8f0c-dd47ee69b1d5",
     "showTitle": false,
     "tableResultSettingsMap": {},
     "title": ""
    }
   },
   "source": [
    "Sales Trend Over Time"
   ]
  },
  {
   "cell_type": "code",
   "execution_count": 0,
   "metadata": {
    "application/vnd.databricks.v1+cell": {
     "cellMetadata": {
      "byteLimit": 2048000,
      "rowLimit": 10000
     },
     "inputWidgets": {},
     "nuid": "e29dee47-1f6e-438a-a64f-62fa3e90b6d6",
     "showTitle": false,
     "tableResultSettingsMap": {},
     "title": ""
    }
   },
   "outputs": [
    {
     "output_type": "stream",
     "name": "stdout",
     "output_type": "stream",
     "text": [
      "+----+-----+------------------+\n|Year|Month|        sum(Sales)|\n+----+-----+------------------+\n|2014|    1|14161.348999999998|\n|2014|    2|          4119.816|\n|2014|    3| 55526.19900000002|\n|2014|    4|28139.560999999994|\n|2014|    5|         23634.667|\n|2014|    6| 34508.99560000003|\n|2014|    7| 33500.87299999999|\n|2014|    8| 27603.51249999999|\n|2014|    9| 81496.80679999998|\n|2014|   10|31394.940999999988|\n|2014|   11| 78297.24069999997|\n|2014|   12| 69379.83649999999|\n|2015|    1|18085.115599999994|\n|2015|    2|11924.271999999999|\n|2015|    3|38621.291999999994|\n|2015|    4|32640.482499999987|\n|2015|    5|29325.970500000003|\n|2015|    6|24659.684000000005|\n|2015|    7| 28524.52099999999|\n|2015|    8|36380.928199999995|\n+----+-----+------------------+\nonly showing top 20 rows\n\n"
     ]
    }
   ],
   "source": [
    "from pyspark.sql.functions import to_date, month, year\n",
    "\n",
    "# Convert order date to actual date\n",
    "df_clean = df_clean.withColumn(\"Order_Date\", to_date(col(\"Order Date\"), \"MM/dd/yyyy\"))\n",
    "\n",
    "# Group sales by month\n",
    "monthly_sales = df_clean.groupBy(year(\"Order_Date\").alias(\"Year\"), month(\"Order_Date\").alias(\"Month\")).sum(\"Sales\")\n",
    "monthly_sales.orderBy(\"Year\", \"Month\").show()"
   ]
  },
  {
   "cell_type": "markdown",
   "metadata": {
    "application/vnd.databricks.v1+cell": {
     "cellMetadata": {},
     "inputWidgets": {},
     "nuid": "1918869e-1df5-4d18-a730-032c43babeaa",
     "showTitle": false,
     "tableResultSettingsMap": {},
     "title": ""
    }
   },
   "source": [
    "Top-Selling Products / Categories"
   ]
  },
  {
   "cell_type": "code",
   "execution_count": 0,
   "metadata": {
    "application/vnd.databricks.v1+cell": {
     "cellMetadata": {
      "byteLimit": 2048000,
      "rowLimit": 10000
     },
     "inputWidgets": {},
     "nuid": "07959331-a3ce-45aa-a112-d7826baadf0f",
     "showTitle": false,
     "tableResultSettingsMap": {},
     "title": ""
    }
   },
   "outputs": [
    {
     "output_type": "stream",
     "name": "stdout",
     "output_type": "stream",
     "text": [
      "+------------+------------------+\n|Sub-Category|        sum(Sales)|\n+------------+------------------+\n|      Phones| 329753.0880000001|\n|      Chairs|328449.10300000076|\n|     Storage|216803.21200000012|\n|      Tables| 206965.5320000001|\n|     Binders|199905.71700000006|\n|    Machines|189238.63099999996|\n| Accessories| 167380.3180000001|\n|     Copiers|149528.02999999994|\n|   Bookcases|114879.99629999997|\n|  Appliances|        107532.161|\n| Furnishings| 82752.23000000004|\n|       Paper| 75356.11799999999|\n|    Supplies| 45952.47000000001|\n|         Art|27118.791999999954|\n|   Envelopes|15339.489999999993|\n|      Labels|         12486.312|\n|   Fasteners|3008.6559999999995|\n+------------+------------------+\n\n"
     ]
    }
   ],
   "source": [
    "df_clean.groupBy(\"Sub-Category\").sum(\"Sales\").orderBy(\"sum(Sales)\", ascending=False).show()"
   ]
  },
  {
   "cell_type": "markdown",
   "metadata": {
    "application/vnd.databricks.v1+cell": {
     "cellMetadata": {},
     "inputWidgets": {},
     "nuid": "9a529b01-4797-4b27-ac9e-a162102cccae",
     "showTitle": false,
     "tableResultSettingsMap": {},
     "title": ""
    }
   },
   "source": [
    "Profitability Analysis"
   ]
  },
  {
   "cell_type": "code",
   "execution_count": 0,
   "metadata": {
    "application/vnd.databricks.v1+cell": {
     "cellMetadata": {
      "byteLimit": 2048000,
      "rowLimit": 10000
     },
     "inputWidgets": {},
     "nuid": "8687c740-a4c2-4a4b-bfc9-92fd3d446c90",
     "showTitle": false,
     "tableResultSettingsMap": {},
     "title": ""
    }
   },
   "outputs": [
    {
     "output_type": "stream",
     "name": "stdout",
     "output_type": "stream",
     "text": [
      "+---------------+------------------+\n|       Category|       sum(Profit)|\n+---------------+------------------+\n|     Technology|145388.29659999989|\n|Office Supplies|120632.87839999991|\n|      Furniture| 19686.42720000003|\n+---------------+------------------+\n\n"
     ]
    }
   ],
   "source": [
    "df_clean = df_clean.withColumn(\"Profit\", col(\"Profit\").cast(\"double\"))\n",
    "df_clean.groupBy(\"Category\").sum(\"Profit\").orderBy(\"sum(Profit)\", ascending=False).show()"
   ]
  },
  {
   "cell_type": "markdown",
   "metadata": {
    "application/vnd.databricks.v1+cell": {
     "cellMetadata": {},
     "inputWidgets": {},
     "nuid": "91b023f1-a149-4c53-9836-b88f2801ffc9",
     "showTitle": false,
     "tableResultSettingsMap": {},
     "title": ""
    }
   },
   "source": [
    "Sales by Region"
   ]
  },
  {
   "cell_type": "code",
   "execution_count": 0,
   "metadata": {
    "application/vnd.databricks.v1+cell": {
     "cellMetadata": {
      "byteLimit": 2048000,
      "rowLimit": 10000
     },
     "inputWidgets": {},
     "nuid": "32035323-e029-4955-b1a4-4d8473cf7005",
     "showTitle": false,
     "tableResultSettingsMap": {},
     "title": ""
    }
   },
   "outputs": [
    {
     "output_type": "stream",
     "name": "stdout",
     "output_type": "stream",
     "text": [
      "+-------+------------------+\n| Region|        sum(Sales)|\n+-------+------------------+\n|  South|388983.58500000037|\n|Central| 497800.8728000007|\n|   East| 672194.0539999981|\n|   West| 713471.3445000004|\n+-------+------------------+\n\n"
     ]
    }
   ],
   "source": [
    "from pyspark.sql.functions import col\n",
    "\n",
    "# Convert \"Sales\" to numeric (double) before grouping\n",
    "df_clean = df_clean.withColumn(\"Sales\", col(\"Sales\").cast(\"double\"))\n",
    "\n",
    "# Now perform group by Region\n",
    "df_clean.groupBy(\"Region\").sum(\"Sales\").show()"
   ]
  },
  {
   "cell_type": "markdown",
   "metadata": {
    "application/vnd.databricks.v1+cell": {
     "cellMetadata": {},
     "inputWidgets": {},
     "nuid": "d3dca3cd-c937-4584-bea3-2edf437b8355",
     "showTitle": false,
     "tableResultSettingsMap": {},
     "title": ""
    }
   },
   "source": [
    "Average order value"
   ]
  },
  {
   "cell_type": "code",
   "execution_count": 0,
   "metadata": {
    "application/vnd.databricks.v1+cell": {
     "cellMetadata": {
      "byteLimit": 2048000,
      "rowLimit": 10000
     },
     "inputWidgets": {},
     "nuid": "c848dbff-5fe0-43c4-a53a-bfa466e40882",
     "showTitle": false,
     "tableResultSettingsMap": {},
     "title": ""
    }
   },
   "outputs": [
    {
     "output_type": "stream",
     "name": "stdout",
     "output_type": "stream",
     "text": [
      "+-----------+------------------+-------------------+\n|Customer ID|   Avg_Order_Value|         Avg_Profit|\n+-----------+------------------+-------------------+\n|   MW-18235|1751.2920000000001|            555.172|\n|   TC-20980|1728.8952727272726|  747.0402166666668|\n|   SM-20320|1669.5366666666666|-132.04928666666666|\n|   GT-14635| 1558.535333333333| -684.7764833333334|\n|   TA-21385|1459.5620000000001| 470.37882999999994|\n|   HL-15040|1170.2998181818182| 511.12992727272734|\n|   BS-11365| 1166.850333333333|  290.6738222222222|\n|   CC-12370|1102.6429090909091| 197.91357272727274|\n|   SH-20635|          1048.196|           130.3129|\n|   IM-15055| 949.4533333333334| 241.75822499999998|\n|   CM-12385|           895.402|          389.98904|\n|   JR-15700|            863.88|            107.985|\n|   TS-21370| 848.9907857142856| 157.92221333333333|\n|   RB-19360| 839.8521666666667|  387.5608833333333|\n|   BM-11140| 829.2785714285716|      -106.96450625|\n|   KC-16540|          781.6524| 141.88438000000002|\n|   AB-10105| 755.5584736842104|         271.945375|\n|   AR-10540|           734.272|  320.5134222222222|\n|   YC-21895|         681.79375|         163.203625|\n|   FH-14365| 668.3659999999999| 156.64993076923082|\n+-----------+------------------+-------------------+\nonly showing top 20 rows\n\n"
     ]
    }
   ],
   "source": [
    "from pyspark.sql.functions import avg\n",
    "\n",
    "df_clean.groupBy(\"Customer ID\").agg(\n",
    "    avg(\"Sales\").alias(\"Avg_Order_Value\"),\n",
    "    avg(\"Profit\").alias(\"Avg_Profit\")\n",
    ").orderBy(\"Avg_Order_Value\", ascending=False).show()"
   ]
  },
  {
   "cell_type": "markdown",
   "metadata": {
    "application/vnd.databricks.v1+cell": {
     "cellMetadata": {},
     "inputWidgets": {},
     "nuid": "46afabd4-a936-443d-9667-dcb83b772829",
     "showTitle": false,
     "tableResultSettingsMap": {},
     "title": ""
    }
   },
   "source": [
    "Customer Segementation"
   ]
  },
  {
   "cell_type": "code",
   "execution_count": 0,
   "metadata": {
    "application/vnd.databricks.v1+cell": {
     "cellMetadata": {
      "byteLimit": 2048000,
      "rowLimit": 10000
     },
     "inputWidgets": {},
     "nuid": "286fa45a-f2fa-4057-8921-8e019c9c81fd",
     "showTitle": false,
     "tableResultSettingsMap": {},
     "title": ""
    }
   },
   "outputs": [
    {
     "output_type": "stream",
     "name": "stdout",
     "output_type": "stream",
     "text": [
      "+-----------+------------------+\n|Customer ID|        sum(Sales)|\n+-----------+------------------+\n|   SM-20320|          25043.05|\n|   TC-20980|19017.847999999998|\n|   RB-19360|         15117.339|\n|   TA-21385|          14595.62|\n|   AB-10105|14355.610999999997|\n|   SC-20095|14142.333999999999|\n|   KL-16645|         14071.917|\n|   HL-15040|12873.297999999999|\n|   SE-20110|12209.438000000002|\n|   CC-12370|         12129.072|\n+-----------+------------------+\nonly showing top 10 rows\n\n"
     ]
    }
   ],
   "source": [
    "df_clean.groupBy(\"Customer ID\").sum(\"Sales\").orderBy(\"sum(Sales)\", ascending=False).show(10)"
   ]
  },
  {
   "cell_type": "markdown",
   "metadata": {
    "application/vnd.databricks.v1+cell": {
     "cellMetadata": {},
     "inputWidgets": {},
     "nuid": "5fb73201-2f11-4458-9e3c-3ebe04f04754",
     "showTitle": false,
     "tableResultSettingsMap": {},
     "title": ""
    }
   },
   "source": [
    "Repeat Customer behaviour"
   ]
  },
  {
   "cell_type": "code",
   "execution_count": 0,
   "metadata": {
    "application/vnd.databricks.v1+cell": {
     "cellMetadata": {
      "byteLimit": 2048000,
      "rowLimit": 10000
     },
     "inputWidgets": {},
     "nuid": "996851f4-eecb-4283-867c-7caad02f09b4",
     "showTitle": false,
     "tableResultSettingsMap": {},
     "title": ""
    }
   },
   "outputs": [
    {
     "output_type": "stream",
     "name": "stdout",
     "output_type": "stream",
     "text": [
      "+-----------+------------+\n|Customer ID|Total_Orders|\n+-----------+------------+\n|   EP-13915|          17|\n|   SH-19975|          13|\n|   CK-12205|          13|\n|   EA-14035|          13|\n|   NS-18640|          13|\n|   PG-18820|          13|\n|   ZC-21910|          13|\n|   JE-15745|          13|\n|   PK-19075|          12|\n|   KB-16585|          12|\n|   CL-12565|          12|\n|   SJ-20125|          12|\n|   HG-14965|          12|\n|   AH-10690|          12|\n|   SM-20950|          12|\n|   DK-12835|          12|\n|   BP-11095|          12|\n|   LC-16885|          12|\n|   CC-12220|          12|\n|   RB-19465|          12|\n+-----------+------------+\nonly showing top 20 rows\n\n"
     ]
    }
   ],
   "source": [
    "from pyspark.sql.functions import countDistinct\n",
    "\n",
    "df_clean.groupBy(\"Customer ID\").agg(\n",
    "    countDistinct(\"Order ID\").alias(\"Total_Orders\")\n",
    ").orderBy(\"Total_Orders\", ascending=False).show()"
   ]
  }
 ],
 "metadata": {
  "application/vnd.databricks.v1+notebook": {
   "computePreferences": null,
   "dashboards": [],
   "environmentMetadata": {
    "base_environment": "",
    "environment_version": "2"
   },
   "inputWidgetPreferences": null,
   "language": "python",
   "notebookMetadata": {
    "pythonIndentUnit": 4
   },
   "notebookName": "RetailSalesAnalysis",
   "widgets": {}
  },
  "language_info": {
   "name": "python"
  }
 },
 "nbformat": 4,
 "nbformat_minor": 0
}